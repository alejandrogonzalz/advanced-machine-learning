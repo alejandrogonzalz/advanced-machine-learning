{
 "cells": [
  {
   "cell_type": "markdown",
   "metadata": {
    "id": "PuuvVBGWibnI"
   },
   "source": [
    "# TC 5033\n",
    "## Deep Learning\n",
    "## Fully Connected Deep Neural Networks\n",
    "\n",
    "#### Activity 1b: Implementing a Fully Connected Network for Kaggle ASL Dataset\n",
    "\n",
    "- Objective\n",
    "\n",
    "The aim of this part of the activity is to apply your understanding of Fully Connected Networks by implementing a multilayer network for the [Kaggle ASL (American Sign Language) dataset](https://www.kaggle.com/datasets/grassknoted/asl-alphabet). While you have been provided with a complete solution for a Fully Connected Network using Numpy for the MNIST dataset, you are encouraged to try to come up with the solution.\n",
    "\n",
    "- Instructions\n",
    "\n",
    "    This activity requires submission in teams of 3 or 4 members. Submissions from smaller or larger teams will not be accepted unless prior approval has been granted (only due to exceptional circumstances). While teamwork is encouraged, each member is expected to contribute individually to the assignment. The final submission should feature the best arguments and solutions from each team member. Only one person per team needs to submit the completed work, but it is imperative that the names of all team members are listed in a Markdown cell at the very beginning of the notebook (either the first or second cell). Failure to include all team member names will result in the grade being awarded solely to the individual who submitted the assignment, with zero points given to other team members (no exceptions will be made to this rule).\n",
    "\n",
    "    Load and Preprocess Data: You are provided a starter code to load the data. Be sure to understand the code.\n",
    "\n",
    "    Review MNIST Notebook (Optional): Before diving into this activity, you have the option to revisit the MNIST example to refresh your understanding of how to build a Fully Connected Network using Numpy.\n",
    "\n",
    "    Start Fresh: Although you can refer to the MNIST solution at any point, try to implement the network for the ASL dataset on your own. This will reinforce your learning and understanding of the architecture and mathematics involved.\n",
    "\n",
    "    Implement Forward and Backward Pass: Write the code to perform the forward and backward passes, keeping in mind the specific challenges and characteristics of the ASL dataset.\n",
    "    \n",
    "     Design the Network: Create the architecture of the Fully Connected Network tailored for the ASL dataset. Choose the number of hidden layers, neurons, and hyperparameters judiciously.\n",
    "\n",
    "    Train the Model: Execute the training loop, ensuring to track performance metrics such as loss and accuracy.\n",
    "\n",
    "    Analyze and Document: Use Markdown cells to document in detail the choices you made in terms of architecture and hyperparameters, you may use figures, equations, etc to aid in your explanations. Include any metrics that help justify these choices and discuss the model's performance.  \n",
    "\n",
    "- Evaluation Criteria\n",
    "\n",
    "    - Code Readability and Comments\n",
    "    - Appropriateness of chosen architecture and hyperparameters for the ASL dataset\n",
    "    - Performance of the model on the ASL dataset (at least 70% acc)\n",
    "    - Quality of Markdown documentation\n",
    "\n",
    "- Submission\n",
    "\n",
    "Submit this Jupyter Notebook in canvas with your complete solution, ensuring your code is well-commented and includes Markdown cells that explain your design choices, results, and any challenges you encountered.\n"
   ]
  },
  {
   "cell_type": "code",
   "metadata": {
    "id": "K4G25_GFibnP",
    "ExecuteTime": {
     "end_time": "2025-01-23T05:58:01.759986Z",
     "start_time": "2025-01-23T05:58:01.720173Z"
    }
   },
   "source": [
    "import numpy as np\n",
    "import string\n",
    "import pandas as pd\n",
    "import matplotlib.pyplot as plt\n",
    "import cv2 as cv\n",
    "import os\n",
    "\n",
    "%load_ext autoreload\n",
    "%autoreload 2\n",
    "#################################\n",
    "%matplotlib inline\n"
   ],
   "outputs": [
    {
     "name": "stdout",
     "output_type": "stream",
     "text": [
      "The autoreload extension is already loaded. To reload it, use:\n",
      "  %reload_ext autoreload\n"
     ]
    }
   ],
   "execution_count": 13
  },
  {
   "cell_type": "code",
   "metadata": {
    "id": "d48QB1yOibnS",
    "ExecuteTime": {
     "end_time": "2025-01-23T05:58:03.059582Z",
     "start_time": "2025-01-23T05:58:01.763998Z"
    }
   },
   "source": [
    "DATA_PATH = './data/asl_data'\n",
    "train_df = pd.read_csv(os.path.join(DATA_PATH, 'sign_mnist_train.csv'))\n",
    "valid_df = pd.read_csv(os.path.join(DATA_PATH, 'sign_mnist_valid.csv'))"
   ],
   "outputs": [],
   "execution_count": 14
  },
  {
   "cell_type": "code",
   "metadata": {
    "id": "olT4OWKHibnS",
    "colab": {
     "base_uri": "https://localhost:8080/",
     "height": 256
    },
    "executionInfo": {
     "status": "ok",
     "timestamp": 1737577012183,
     "user_tz": 360,
     "elapsed": 5,
     "user": {
      "displayName": "ALEJANDRO González Almazán",
      "userId": "18200300479642110879"
     }
    },
    "outputId": "24f7b28e-2846-41cf-e9a2-2bde5eb0eefa",
    "ExecuteTime": {
     "end_time": "2025-01-23T05:58:03.117110Z",
     "start_time": "2025-01-23T05:58:03.072954Z"
    }
   },
   "source": [
    "train_df.head()"
   ],
   "outputs": [
    {
     "data": {
      "text/plain": [
       "   label  pixel1  pixel2  pixel3  pixel4  pixel5  pixel6  pixel7  pixel8  \\\n",
       "0      3     107     118     127     134     139     143     146     150   \n",
       "1      6     155     157     156     156     156     157     156     158   \n",
       "2      2     187     188     188     187     187     186     187     188   \n",
       "3      2     211     211     212     212     211     210     211     210   \n",
       "4     12     164     167     170     172     176     179     180     184   \n",
       "\n",
       "   pixel9  ...  pixel775  pixel776  pixel777  pixel778  pixel779  pixel780  \\\n",
       "0     153  ...       207       207       207       207       206       206   \n",
       "1     158  ...        69       149       128        87        94       163   \n",
       "2     187  ...       202       201       200       199       198       199   \n",
       "3     210  ...       235       234       233       231       230       226   \n",
       "4     185  ...        92       105       105       108       133       163   \n",
       "\n",
       "   pixel781  pixel782  pixel783  pixel784  \n",
       "0       206       204       203       202  \n",
       "1       175       103       135       149  \n",
       "2       198       195       194       195  \n",
       "3       225       222       229       163  \n",
       "4       157       163       164       179  \n",
       "\n",
       "[5 rows x 785 columns]"
      ],
      "text/html": [
       "<div>\n",
       "<style scoped>\n",
       "    .dataframe tbody tr th:only-of-type {\n",
       "        vertical-align: middle;\n",
       "    }\n",
       "\n",
       "    .dataframe tbody tr th {\n",
       "        vertical-align: top;\n",
       "    }\n",
       "\n",
       "    .dataframe thead th {\n",
       "        text-align: right;\n",
       "    }\n",
       "</style>\n",
       "<table border=\"1\" class=\"dataframe\">\n",
       "  <thead>\n",
       "    <tr style=\"text-align: right;\">\n",
       "      <th></th>\n",
       "      <th>label</th>\n",
       "      <th>pixel1</th>\n",
       "      <th>pixel2</th>\n",
       "      <th>pixel3</th>\n",
       "      <th>pixel4</th>\n",
       "      <th>pixel5</th>\n",
       "      <th>pixel6</th>\n",
       "      <th>pixel7</th>\n",
       "      <th>pixel8</th>\n",
       "      <th>pixel9</th>\n",
       "      <th>...</th>\n",
       "      <th>pixel775</th>\n",
       "      <th>pixel776</th>\n",
       "      <th>pixel777</th>\n",
       "      <th>pixel778</th>\n",
       "      <th>pixel779</th>\n",
       "      <th>pixel780</th>\n",
       "      <th>pixel781</th>\n",
       "      <th>pixel782</th>\n",
       "      <th>pixel783</th>\n",
       "      <th>pixel784</th>\n",
       "    </tr>\n",
       "  </thead>\n",
       "  <tbody>\n",
       "    <tr>\n",
       "      <th>0</th>\n",
       "      <td>3</td>\n",
       "      <td>107</td>\n",
       "      <td>118</td>\n",
       "      <td>127</td>\n",
       "      <td>134</td>\n",
       "      <td>139</td>\n",
       "      <td>143</td>\n",
       "      <td>146</td>\n",
       "      <td>150</td>\n",
       "      <td>153</td>\n",
       "      <td>...</td>\n",
       "      <td>207</td>\n",
       "      <td>207</td>\n",
       "      <td>207</td>\n",
       "      <td>207</td>\n",
       "      <td>206</td>\n",
       "      <td>206</td>\n",
       "      <td>206</td>\n",
       "      <td>204</td>\n",
       "      <td>203</td>\n",
       "      <td>202</td>\n",
       "    </tr>\n",
       "    <tr>\n",
       "      <th>1</th>\n",
       "      <td>6</td>\n",
       "      <td>155</td>\n",
       "      <td>157</td>\n",
       "      <td>156</td>\n",
       "      <td>156</td>\n",
       "      <td>156</td>\n",
       "      <td>157</td>\n",
       "      <td>156</td>\n",
       "      <td>158</td>\n",
       "      <td>158</td>\n",
       "      <td>...</td>\n",
       "      <td>69</td>\n",
       "      <td>149</td>\n",
       "      <td>128</td>\n",
       "      <td>87</td>\n",
       "      <td>94</td>\n",
       "      <td>163</td>\n",
       "      <td>175</td>\n",
       "      <td>103</td>\n",
       "      <td>135</td>\n",
       "      <td>149</td>\n",
       "    </tr>\n",
       "    <tr>\n",
       "      <th>2</th>\n",
       "      <td>2</td>\n",
       "      <td>187</td>\n",
       "      <td>188</td>\n",
       "      <td>188</td>\n",
       "      <td>187</td>\n",
       "      <td>187</td>\n",
       "      <td>186</td>\n",
       "      <td>187</td>\n",
       "      <td>188</td>\n",
       "      <td>187</td>\n",
       "      <td>...</td>\n",
       "      <td>202</td>\n",
       "      <td>201</td>\n",
       "      <td>200</td>\n",
       "      <td>199</td>\n",
       "      <td>198</td>\n",
       "      <td>199</td>\n",
       "      <td>198</td>\n",
       "      <td>195</td>\n",
       "      <td>194</td>\n",
       "      <td>195</td>\n",
       "    </tr>\n",
       "    <tr>\n",
       "      <th>3</th>\n",
       "      <td>2</td>\n",
       "      <td>211</td>\n",
       "      <td>211</td>\n",
       "      <td>212</td>\n",
       "      <td>212</td>\n",
       "      <td>211</td>\n",
       "      <td>210</td>\n",
       "      <td>211</td>\n",
       "      <td>210</td>\n",
       "      <td>210</td>\n",
       "      <td>...</td>\n",
       "      <td>235</td>\n",
       "      <td>234</td>\n",
       "      <td>233</td>\n",
       "      <td>231</td>\n",
       "      <td>230</td>\n",
       "      <td>226</td>\n",
       "      <td>225</td>\n",
       "      <td>222</td>\n",
       "      <td>229</td>\n",
       "      <td>163</td>\n",
       "    </tr>\n",
       "    <tr>\n",
       "      <th>4</th>\n",
       "      <td>12</td>\n",
       "      <td>164</td>\n",
       "      <td>167</td>\n",
       "      <td>170</td>\n",
       "      <td>172</td>\n",
       "      <td>176</td>\n",
       "      <td>179</td>\n",
       "      <td>180</td>\n",
       "      <td>184</td>\n",
       "      <td>185</td>\n",
       "      <td>...</td>\n",
       "      <td>92</td>\n",
       "      <td>105</td>\n",
       "      <td>105</td>\n",
       "      <td>108</td>\n",
       "      <td>133</td>\n",
       "      <td>163</td>\n",
       "      <td>157</td>\n",
       "      <td>163</td>\n",
       "      <td>164</td>\n",
       "      <td>179</td>\n",
       "    </tr>\n",
       "  </tbody>\n",
       "</table>\n",
       "<p>5 rows × 785 columns</p>\n",
       "</div>"
      ]
     },
     "execution_count": 15,
     "metadata": {},
     "output_type": "execute_result"
    }
   ],
   "execution_count": 15
  },
  {
   "cell_type": "markdown",
   "metadata": {
    "id": "S5hcNzJUibnT"
   },
   "source": [
    "### Importar Images"
   ]
  },
  {
   "cell_type": "code",
   "metadata": {
    "id": "5HN9JuusibnU",
    "ExecuteTime": {
     "end_time": "2025-01-23T05:58:03.329850Z",
     "start_time": "2025-01-23T05:58:03.192330Z"
    }
   },
   "source": [
    "y_train = np.array(train_df['label'])\n",
    "y_val = np.array(valid_df['label'])\n",
    "del train_df['label']\n",
    "del valid_df['label']\n",
    "x_train = train_df.values.astype(np.float32)\n",
    "x_val = valid_df.values.astype(np.float32)"
   ],
   "outputs": [],
   "execution_count": 16
  },
  {
   "cell_type": "code",
   "metadata": {
    "code_folding": [],
    "id": "ylUG3aq-ibnV",
    "ExecuteTime": {
     "end_time": "2025-01-23T05:58:03.493190Z",
     "start_time": "2025-01-23T05:58:03.446122Z"
    }
   },
   "source": [
    "def split_val_test(x, y, pct=0.5, shuffle=True):\n",
    "    '''\n",
    "    Create a function that will allow you to split the previously loaded validation set\n",
    "    into valition and test.\n",
    "    '''\n",
    "    \"\"\"\n",
    "    Split the validation set into validation and test subsets.\n",
    "\n",
    "    Parameters:\n",
    "    x (array-like): Features of the dataset.\n",
    "    y (array-like): Labels corresponding to the features.\n",
    "    pct (float): Percentage of the data to allocate for the test set (default is 0.5).\n",
    "    shuffle (bool): Whether to shuffle the dataset before splitting (default is True).\n",
    "\n",
    "    Returns:\n",
    "    tuple: (x_val, y_val, x_test, y_test)\n",
    "        - x_val: Features for the validation subset.\n",
    "        - y_val: Labels for the validation subset.\n",
    "        - x_test: Features for the test subset.\n",
    "        - y_test: Labels for the test subset.\n",
    "    \"\"\"\n",
    "    if shuffle:\n",
    "        indices = np.arange(len(x))\n",
    "        np.random.shuffle(indices)\n",
    "        x = np.array(x)[indices]\n",
    "        y = np.array(y)[indices]\n",
    "\n",
    "    split_idx = int(len(x) * (1 - pct))\n",
    "\n",
    "    x_val, x_test = x[:split_idx], x[split_idx:]\n",
    "    y_val, y_test = y[:split_idx], y[split_idx:]\n",
    "\n",
    "    return x_val, y_val, x_test, y_test"
   ],
   "outputs": [],
   "execution_count": 17
  },
  {
   "cell_type": "code",
   "metadata": {
    "id": "g5ZrjKNiibnW",
    "ExecuteTime": {
     "end_time": "2025-01-23T05:58:03.571443Z",
     "start_time": "2025-01-23T05:58:03.502196Z"
    }
   },
   "source": [
    "x_val, y_val, x_test, y_test = split_val_test(x_val, y_val)"
   ],
   "outputs": [],
   "execution_count": 18
  },
  {
   "cell_type": "code",
   "metadata": {
    "id": "9BfVB--IibnX",
    "colab": {
     "base_uri": "https://localhost:8080/"
    },
    "executionInfo": {
     "status": "ok",
     "timestamp": 1737589849951,
     "user_tz": 360,
     "elapsed": 132,
     "user": {
      "displayName": "ALEJANDRO González Almazán",
      "userId": "18200300479642110879"
     }
    },
    "outputId": "75d8a34c-9b76-4ad9-88a0-18b0a1556427",
    "ExecuteTime": {
     "end_time": "2025-01-23T05:58:04.675359Z",
     "start_time": "2025-01-23T05:58:04.637979Z"
    }
   },
   "source": [
    "### The following\n",
    "\n",
    "alphabet=list(string.ascii_lowercase)\n",
    "alphabet.remove('j')\n",
    "alphabet.remove('z')\n",
    "print(len(alphabet))"
   ],
   "outputs": [
    {
     "name": "stdout",
     "output_type": "stream",
     "text": [
      "24\n"
     ]
    }
   ],
   "execution_count": 19
  },
  {
   "cell_type": "markdown",
   "metadata": {
    "id": "aY5j2FVxibnY"
   },
   "source": [
    "### Normalise"
   ]
  },
  {
   "cell_type": "code",
   "source": [
    "def normalise(x_mean, x_std, x_data):\n",
    "    return (x_data - x_mean) / x_std\n",
    "\n",
    "x_mean = x_train.mean()\n",
    "x_std = x_train.std()\n",
    "\n",
    "x_train = normalise(x_mean, x_std, x_train)\n",
    "x_val = normalise(x_mean, x_std, x_val)\n",
    "x_test = normalise(x_mean, x_std, x_test)"
   ],
   "metadata": {
    "id": "ceqFb1dmba_C",
    "ExecuteTime": {
     "end_time": "2025-01-23T05:58:05.059305Z",
     "start_time": "2025-01-23T05:58:04.912575Z"
    }
   },
   "outputs": [],
   "execution_count": 20
  },
  {
   "cell_type": "markdown",
   "metadata": {
    "id": "CCvAxuRfibnY"
   },
   "source": [
    "### Graficar muestras"
   ]
  },
  {
   "cell_type": "code",
   "source": [
    "def plot_image(data, labels, index):\n",
    "    '''\n",
    "    Plots a single 28x28 grayscale image with the title that indicates the letter it represents.\n",
    "    Parameters:\n",
    "    - data: Dataset containing the image data (e.g., x_train, x_val)\n",
    "    - labels: Dataset containing the corresponding labels (e.g., y_train, y_val)\n",
    "    - index: Index of the image in the dataset\n",
    "    '''\n",
    "    # Reshape the image data back into 28x28 format for visualization\n",
    "    image = data[index].reshape(28, 28)\n",
    "\n",
    "    # Convert the label to ASCII (A-I: 65-73, K-Y: 75-89 in ASCII)\n",
    "    label = labels[index]\n",
    "    if label >= 9:  # Adjust labels for J (label 9 and above)\n",
    "        ascii_letter = chr(label + 66)  # Skip J (add 1 to adjust for the missing J)\n",
    "    else:\n",
    "        ascii_letter = chr(label + 65)  # Labels A-I remain unchanged\n",
    "\n",
    "    # Plot the image with the corresponding label as title\n",
    "    plt.imshow(image, cmap='gray')\n",
    "    plt.title(f\"This is the letter: {ascii_letter}\")\n",
    "    plt.axis('off')  # Hide axes for cleaner visualization\n",
    "    plt.show()"
   ],
   "metadata": {
    "id": "SZou5CZub7aF",
    "ExecuteTime": {
     "end_time": "2025-01-23T05:58:05.122784Z",
     "start_time": "2025-01-23T05:58:05.077649Z"
    }
   },
   "outputs": [],
   "execution_count": 21
  },
  {
   "cell_type": "markdown",
   "metadata": {
    "id": "_9_NJGNyibnZ"
   },
   "source": [
    "### Ecuaciones para nuestro modelo\n",
    "\n",
    "\n",
    "$$z^1 = W^1 X + b^1$$\n",
    "\n",
    "$$a^1 = ReLU(z^1) $$\n",
    "\n",
    "$$z^2 = W^2 a^1 + b^2$$\n",
    "\n",
    "$$\\hat{y} = \\frac{e^{z^{2_k}}}{\\sum_j{e^{z_j}}}$$\n",
    "\n",
    "\n",
    "$$ \\mathcal{L}(\\hat{y}^{i}, y^{i}) =  - y^{i}  \\ln(\\hat{y}^{i}) = -\\ln(\\hat{y}^i)$$\n",
    "\n",
    "\n",
    "$$ \\mathcal{J}(w, b) =  \\frac{1}{num\\_samples} \\sum_{i=1}^{num\\_samples}-\\ln(\\hat{y}^{i})$$"
   ]
  },
  {
   "cell_type": "markdown",
   "metadata": {
    "id": "p6-wDlQ2ibnZ"
   },
   "source": [
    "### Funciones adicionales"
   ]
  },
  {
   "cell_type": "markdown",
   "metadata": {
    "id": "FjgF_kPQibna"
   },
   "source": [
    "#### Mini batches"
   ]
  },
  {
   "cell_type": "code",
   "metadata": {
    "id": "_sUIyGvLibna",
    "ExecuteTime": {
     "end_time": "2025-01-23T05:58:05.182066Z",
     "start_time": "2025-01-23T05:58:05.141412Z"
    }
   },
   "source": [
    "def create_minibatches(mb_size, x, y, shuffle = True):\n",
    "    '''\n",
    "    x  #muestras, 784\n",
    "    y #muestras, 1\n",
    "    '''\n",
    "    assert x.shape[0] == y.shape[0], 'Error en cantidad de muestras'\n",
    "    total_data = x.shape[0]\n",
    "    if shuffle:\n",
    "        idxs = np.arange(total_data)\n",
    "        np.random.shuffle(idxs)\n",
    "        x = x[idxs]\n",
    "        y = y[idxs]\n",
    "    return ((x[i:i+mb_size], y[i:i+mb_size]) for i in range(0, total_data, mb_size))"
   ],
   "outputs": [],
   "execution_count": 22
  },
  {
   "cell_type": "code",
   "source": [
    "for i in range(0,3):\n",
    "    plot_image(x_train, y_train, i)"
   ],
   "metadata": {
    "colab": {
     "base_uri": "https://localhost:8080/",
     "height": 1000
    },
    "id": "Q_4eULOtcPbF",
    "executionInfo": {
     "status": "ok",
     "timestamp": 1737590125250,
     "user_tz": 360,
     "elapsed": 517,
     "user": {
      "displayName": "ALEJANDRO González Almazán",
      "userId": "18200300479642110879"
     }
    },
    "outputId": "04da1ff5-0b20-4ed3-c45b-840fcc86c341",
    "ExecuteTime": {
     "end_time": "2025-01-23T05:58:05.417587Z",
     "start_time": "2025-01-23T05:58:05.199138Z"
    }
   },
   "outputs": [
    {
     "data": {
      "text/plain": [
       "<Figure size 640x480 with 1 Axes>"
      ],
      "image/png": "[encoded data removed]"
     },
     "metadata": {},
     "output_type": "display_data"
    },
    {
     "data": {
      "text/plain": [
       "<Figure size 640x480 with 1 Axes>"
      ],
      "image/png": "[encoded data removed]"
     },
     "metadata": {},
     "output_type": "display_data"
    },
    {
     "data": {
      "text/plain": [
       "<Figure size 640x480 with 1 Axes>"
      ],
      "image/png": "[encoded data removed]"
     },
     "metadata": {},
     "output_type": "display_data"
    }
   ],
   "execution_count": 23
  },
  {
   "cell_type": "markdown",
   "metadata": {
    "id": "95syEfngibna"
   },
   "source": [
    "## Nuestra clase Linear, ReLU y Sequential"
   ]
  },
  {
   "cell_type": "code",
   "source": [
    "class np_tensor(np.ndarray): pass"
   ],
   "metadata": {
    "id": "gzmhYVZIcajo",
    "ExecuteTime": {
     "end_time": "2025-01-23T05:58:05.512456Z",
     "start_time": "2025-01-23T05:58:05.477247Z"
    }
   },
   "outputs": [],
   "execution_count": 24
  },
  {
   "cell_type": "markdown",
   "metadata": {
    "id": "3pxqZx-kibna"
   },
   "source": [
    "###  Clase Linear"
   ]
  },
  {
   "cell_type": "code",
   "source": [
    "class Linear():\n",
    "    def __init__(self, input_size, output_size):\n",
    "        '''\n",
    "        Init parameters utilizando Kaiming He\n",
    "        '''\n",
    "        self.W = (np.random.randn(output_size, input_size) / np.sqrt(input_size/2)).view(np_tensor)\n",
    "        self.b = (np.zeros((output_size, 1))).view(np_tensor)\n",
    "    def __call__(self, X): # esta el foward de la clase lineal\n",
    "        Z = self.W @ X + self.b\n",
    "        return Z\n",
    "    def backward(self, X, Z):\n",
    "        X.grad = self.W.T @ Z.grad\n",
    "        self.W.grad = Z.grad @ X.T\n",
    "        self.b.grad = np.sum(Z.grad, axis = 1, keepdims=True)\n"
   ],
   "metadata": {
    "id": "fZQnLK91cb8p",
    "ExecuteTime": {
     "end_time": "2025-01-23T05:58:05.563124Z",
     "start_time": "2025-01-23T05:58:05.528558Z"
    }
   },
   "outputs": [],
   "execution_count": 25
  },
  {
   "cell_type": "markdown",
   "metadata": {
    "id": "vTfoXcGdibnb"
   },
   "source": [
    "### Clase ReLU"
   ]
  },
  {
   "cell_type": "code",
   "source": [
    "class ReLU():\n",
    "    def __call__(self, Z):\n",
    "        return np.maximum(0, Z)\n",
    "    def backward(self, Z, A):\n",
    "        Z.grad = A.grad.copy()\n",
    "        Z.grad[Z <= 0] = 0"
   ],
   "metadata": {
    "id": "Ho9zfUgscdZr",
    "ExecuteTime": {
     "end_time": "2025-01-23T05:58:05.613343Z",
     "start_time": "2025-01-23T05:58:05.579686Z"
    }
   },
   "outputs": [],
   "execution_count": 26
  },
  {
   "cell_type": "markdown",
   "metadata": {
    "id": "H9UXrs7nibnb"
   },
   "source": [
    "### Clase Sequential"
   ]
  },
  {
   "cell_type": "code",
   "source": [
    "class Sequential_layers():\n",
    "    def __init__(self, layers):\n",
    "        '''\n",
    "        layers - lista que contiene objetos de tipo Linear, ReLU\n",
    "        '''\n",
    "        self.layers = layers\n",
    "        self.x = None\n",
    "        self.outputs = {}\n",
    "    def __call__(self, X):\n",
    "        self.x = X\n",
    "        self.outputs['l0'] = self.x\n",
    "        for i, layer in enumerate(self.layers, 1):\n",
    "            self.x = layer(self.x)\n",
    "            self.outputs['l'+str(i)]=self.x\n",
    "        return self.x\n",
    "    def backward(self):\n",
    "        for i in reversed(range(len(self.layers))):\n",
    "            self.layers[i].backward(self.outputs['l'+str(i)], self.outputs['l'+str(i+1)])\n",
    "    def update(self, learning_rate = 1e-3):\n",
    "        for layer in self.layers:\n",
    "            if isinstance(layer, ReLU): continue\n",
    "            layer.W = layer.W - learning_rate * layer.W.grad\n",
    "            layer.b = layer.b - learning_rate * layer.b.grad\n",
    "    def predict(self, X):\n",
    "        return np.argmax(self.__call__(X))"
   ],
   "metadata": {
    "id": "-f4B8TcXcfEC",
    "ExecuteTime": {
     "end_time": "2025-01-23T05:58:05.664395Z",
     "start_time": "2025-01-23T05:58:05.629071Z"
    }
   },
   "outputs": [],
   "execution_count": 27
  },
  {
   "cell_type": "markdown",
   "metadata": {
    "id": "-xrIKoBxibnb"
   },
   "source": [
    "### Cost Function"
   ]
  },
  {
   "cell_type": "code",
   "source": [
    "def softmaxXEntropy(x, y):\n",
    "    batch_size = x.shape[1]\n",
    "    exp_scores = np.exp(x)\n",
    "    probs = exp_scores / exp_scores.sum(axis = 0)\n",
    "    preds = probs.copy()\n",
    "    # Costo\n",
    "    y_hat = probs[y.squeeze(), np.arange(batch_size)]\n",
    "    cost = np.sum(-np.log(y_hat)) / batch_size\n",
    "    # Calcular gradientes\n",
    "    probs[y.squeeze(), np.arange(batch_size)] -= 1 #dl/dx\n",
    "    x.grad = probs.copy()\n",
    "\n",
    "    return preds, cost"
   ],
   "metadata": {
    "id": "Yj911HtJcjdM",
    "ExecuteTime": {
     "end_time": "2025-01-23T05:58:05.719355Z",
     "start_time": "2025-01-23T05:58:05.682248Z"
    }
   },
   "outputs": [],
   "execution_count": 28
  },
  {
   "cell_type": "markdown",
   "metadata": {
    "id": "usUs79fcibnb"
   },
   "source": [
    "### Loop de entrenamiento"
   ]
  },
  {
   "cell_type": "code",
   "source": [
    "def train(model, epochs, mb_size=128, learning_rate = 1e-3):\n",
    "    for epoch in range(epochs):\n",
    "        for i, (x, y) in enumerate(create_minibatches(mb_size, x_train, y_train)):\n",
    "            scores = model(x.T.view(np_tensor))\n",
    "            _, cost = softmaxXEntropy(scores, y)\n",
    "            model.backward()\n",
    "            model.update(learning_rate)\n",
    "        print(f'costo: {cost}, accuracy: {accuracy(x_val, y_val, model, mb_size)}')"
   ],
   "metadata": {
    "id": "0kBAYywXchL4",
    "ExecuteTime": {
     "end_time": "2025-01-23T05:58:05.772576Z",
     "start_time": "2025-01-23T05:58:05.736786Z"
    }
   },
   "outputs": [],
   "execution_count": 29
  },
  {
   "cell_type": "markdown",
   "metadata": {
    "id": "CjBXlOj6ibnb"
   },
   "source": [
    "### Create your model and train it"
   ]
  },
  {
   "cell_type": "code",
   "metadata": {
    "id": "xOxoo6NSibnc",
    "ExecuteTime": {
     "end_time": "2025-01-23T05:58:05.824932Z",
     "start_time": "2025-01-23T05:58:05.789687Z"
    }
   },
   "source": [
    "def accuracy(x, y, model, mb_size):\n",
    "    correct = 0\n",
    "    total = 0\n",
    "    for i, (x, y) in enumerate(create_minibatches(mb_size, x, y)):\n",
    "        pred = model(x.T.view(np_tensor))\n",
    "        correct += np.sum(np.argmax(pred, axis=0) == y.squeeze())\n",
    "        total += pred.shape[1]\n",
    "    return correct/total"
   ],
   "outputs": [],
   "execution_count": 30
  },
  {
   "cell_type": "markdown",
   "metadata": {
    "id": "99e9TmQ1ibnc"
   },
   "source": [
    "### Test your model on Random data from your test set"
   ]
  },
  {
   "cell_type": "code",
   "metadata": {
    "id": "Hbv9sMRjibnc",
    "ExecuteTime": {
     "end_time": "2025-01-23T05:58:05.923974Z",
     "start_time": "2025-01-23T05:58:05.841012Z"
    }
   },
   "source": [
    "mb_size = 128\n",
    "learning_rate = 1e-3\n",
    "epochs = 20\n",
    "\n",
    "nodes=[700,650,600,650,500,550,400]\n",
    "models = []\n",
    "for size in nodes:\n",
    "  models.append(Sequential_layers([Linear(784, size), ReLU(), Linear(size, 24)]))"
   ],
   "outputs": [],
   "execution_count": 31
  },
  {
   "cell_type": "code",
   "metadata": {
    "id": "8KKBBQREibnc",
    "colab": {
     "base_uri": "https://localhost:8080/"
    },
    "executionInfo": {
     "status": "ok",
     "timestamp": 1737591520062,
     "user_tz": 360,
     "elapsed": 771335,
     "user": {
      "displayName": "ALEJANDRO González Almazán",
      "userId": "18200300479642110879"
     }
    },
    "outputId": "f01c3696-53bf-4a4a-8943-458c32e092f7",
    "jupyter": {
     "is_executing": true
    },
    "ExecuteTime": {
     "start_time": "2025-01-23T05:58:05.940516Z"
    }
   },
   "source": [
    "for i, m in enumerate(models):\n",
    "  print(f\"-------------Training model {i+1} ({nodes[i]} neurons)----------\")\n",
    "  train(m, epochs, mb_size, learning_rate)\n",
    "  print(f\"Accuray on test dataset: {accuracy(x_test, y_test, m, mb_size)}\")"
   ],
   "outputs": [
    {
     "name": "stdout",
     "output_type": "stream",
     "text": [
      "-------------Training model 1 (700 neurons)----------\n",
      "costo: 0.08917859192823856, accuracy: 0.771611823759063\n",
      "costo: 0.03196748450244089, accuracy: 0.7763524818739542\n",
      "costo: 0.01592706577998226, accuracy: 0.7852760736196319\n",
      "costo: 0.011667182056089314, accuracy: 0.7877858337981037\n",
      "costo: 0.009504254731847602, accuracy: 0.7877858337981037\n",
      "costo: 0.00880611422988242, accuracy: 0.7972671500278862\n",
      "costo: 0.007027771900496153, accuracy: 0.7972671500278862\n",
      "costo: 0.00520145530219805, accuracy: 0.7936419408812047\n",
      "costo: 0.005642724600265609, accuracy: 0.7953151143335192\n",
      "costo: 0.004189950437268675, accuracy: 0.7972671500278862\n",
      "costo: 0.003559189250524355, accuracy: 0.7964305633017289\n",
      "costo: 0.003695126047704918, accuracy: 0.795872838817624\n",
      "costo: 0.0038884971093623793, accuracy: 0.7961517010596765\n",
      "costo: 0.002296763670245712, accuracy: 0.7967094255437813\n",
      "costo: 0.0030873314388843013, accuracy: 0.7936419408812047\n",
      "costo: 0.004329239144381796, accuracy: 0.7967094255437813\n",
      "costo: 0.002555308164004878, accuracy: 0.7933630786391522\n",
      "costo: 0.0022281217325268565, accuracy: 0.7955939765755716\n",
      "costo: 0.0017738399904798745, accuracy: 0.7953151143335192\n",
      "costo: 0.0015521478203560973, accuracy: 0.7944785276073619\n",
      "Accuray on test dataset: 0.7677077523703291\n",
      "-------------Training model 2 (650 neurons)----------\n",
      "costo: 0.06993212192790556, accuracy: 0.754601226993865\n",
      "costo: 0.032973182966767024, accuracy: 0.7660345789180145\n",
      "costo: 0.018664527779060927, accuracy: 0.7741215839375348\n",
      "costo: 0.012825626029933082, accuracy: 0.7774679308421639\n",
      "costo: 0.007308144057368609, accuracy: 0.7763524818739542\n",
      "costo: 0.008324818070385565, accuracy: 0.7783045175683212\n"
     ]
    }
   ],
   "execution_count": null
  }
 ],
 "metadata": {
  "kernelspec": {
   "display_name": "Python 3 (ipykernel)",
   "language": "python",
   "name": "python3"
  },
  "language_info": {
   "codemirror_mode": {
    "name": "ipython",
    "version": 3
   },
   "file_extension": ".py",
   "mimetype": "text/x-python",
   "name": "python",
   "nbconvert_exporter": "python",
   "pygments_lexer": "ipython3",
   "version": "3.9.0"
  },
  "toc": {
   "base_numbering": 1,
   "nav_menu": {},
   "number_sections": true,
   "sideBar": true,
   "skip_h1_title": false,
   "title_cell": "Table of Contents",
   "title_sidebar": "Contents",
   "toc_cell": false,
   "toc_position": {},
   "toc_section_display": true,
   "toc_window_display": false
  },
  "varInspector": {
   "cols": {
    "lenName": 16,
    "lenType": 16,
    "lenVar": 40
   },
   "kernels_config": {
    "python": {
     "delete_cmd_postfix": "",
     "delete_cmd_prefix": "del ",
     "library": "var_list.py",
     "varRefreshCmd": "print(var_dic_list())"
    },
    "r": {
     "delete_cmd_postfix": ") ",
     "delete_cmd_prefix": "rm(",
     "library": "var_list.r",
     "varRefreshCmd": "cat(var_dic_list()) "
    }
   },
   "types_to_exclude": [
    "module",
    "function",
    "builtin_function_or_method",
    "instance",
    "_Feature"
   ],
   "window_display": false
  },
  "colab": {
   "provenance": []
  }
 },
 "nbformat": 4,
 "nbformat_minor": 0
}
